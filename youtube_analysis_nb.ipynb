{
 "cells": [
  {
   "cell_type": "code",
   "execution_count": 2,
   "id": "47f1f049",
   "metadata": {},
   "outputs": [],
   "source": [
    "from googleapiclient.discovery import build\n",
    "import pandas as pd\n",
    "from IPython.display import JSON\n",
    "import json\n",
    "import matplotlib\n",
    "import matplotlib.pyplot as plt\n",
    "import seaborn as sns\n",
    "%run config.ipynb # this line runs the config.ipynb file, which stores my API key"
   ]
  },
  {
   "cell_type": "code",
   "execution_count": 4,
   "id": "f093d00a",
   "metadata": {},
   "outputs": [],
   "source": [
    "#api_key"
   ]
  },
  {
   "cell_type": "code",
   "execution_count": 4,
   "id": "502fad86",
   "metadata": {},
   "outputs": [
    {
     "name": "stdout",
     "output_type": "stream",
     "text": [
      "[\n",
      "    {\n",
      "        \"kind\": \"youtube#channel\",\n",
      "        \"etag\": \"LrfEj-e_KpzqWDElrRRkIbVLcxM\",\n",
      "        \"id\": \"UCzQUP1qoWDoEbmsQxvdjxgQ\",\n",
      "        \"snippet\": {\n",
      "            \"title\": \"PowerfulJRE\",\n",
      "            \"description\": \"The Joe Rogan Experience podcast\\n\",\n",
      "            \"customUrl\": \"@joerogan\",\n",
      "            \"publishedAt\": \"2013-01-12T01:40:14Z\",\n",
      "            \"thumbnails\": {\n",
      "                \"default\": {\n",
      "                    \"url\": \"https://yt3.ggpht.com/ytc/AOPolaTYBgg3ciyY0Q-3igHueczNyBNcFf66DrRdnVIzcQ=s88-c-k-c0x00ffffff-no-rj\",\n",
      "                    \"width\": 88,\n",
      "                    \"height\": 88\n",
      "                },\n",
      "                \"medium\": {\n",
      "                    \"url\": \"https://yt3.ggpht.com/ytc/AOPolaTYBgg3ciyY0Q-3igHueczNyBNcFf66DrRdnVIzcQ=s240-c-k-c0x00ffffff-no-rj\",\n",
      "                    \"width\": 240,\n",
      "                    \"height\": 240\n",
      "                },\n",
      "                \"high\": {\n",
      "                    \"url\": \"https://yt3.ggpht.com/ytc/AOPolaTYBgg3ciyY0Q-3igHueczNyBNcFf66DrRdnVIzcQ=s800-c-k-c0x00ffffff-no-rj\",\n",
      "                    \"width\": 800,\n",
      "                    \"height\": 800\n",
      "                }\n",
      "            },\n",
      "            \"localized\": {\n",
      "                \"title\": \"PowerfulJRE\",\n",
      "                \"description\": \"The Joe Rogan Experience podcast\\n\"\n",
      "            }\n",
      "        },\n",
      "        \"contentDetails\": {\n",
      "            \"relatedPlaylists\": {\n",
      "                \"likes\": \"\",\n",
      "                \"uploads\": \"UUzQUP1qoWDoEbmsQxvdjxgQ\"\n",
      "            }\n",
      "        },\n",
      "        \"statistics\": {\n",
      "            \"viewCount\": \"3067034704\",\n",
      "            \"subscriberCount\": \"15200000\",\n",
      "            \"hiddenSubscriberCount\": false,\n",
      "            \"videoCount\": \"1032\"\n",
      "        }\n",
      "    },\n",
      "    {\n",
      "        \"kind\": \"youtube#channel\",\n",
      "        \"etag\": \"kEPDs1XnqJrYMHrzjUlPeJRVt-U\",\n",
      "        \"id\": \"UCa90xqK2odw1KV5wHU9WRhg\",\n",
      "        \"snippet\": {\n",
      "            \"title\": \"The Office\",\n",
      "            \"description\": \"Welcome to The Office Channel!\\n\\nThis channel is dedicated to everything The Office, from behind-the-scenes videos to fan theories. We'll be uploading new videos every week, so be sure to subscribe and hit the bell icon to be notified when we upload new content.\\n\\nIn this channel, you'll find:\\n* Behind-the-scenes videos: We'll take you behind-the-scenes of The Office, showing you how the show was made and what it was like to work on set.\\n* Fan theories: We'll share some of the most popular fan theories about The Office, and we'll even share some of our own.\\n* Episode recaps: Relive your favorite moments from Michael Scott, Dwight Schrute, Jim Halpert, and more\\u2026\\n* Character interviews: We'll interview the cast and crew of The Office, getting their insights into the show and their characters.\\n* Peacock exclusives: We\\u2019ll upload never-before-seen deleted scenes, bloopers, and gag reels.\\n\\nIf you're a fan of The Office, then this is the channel for you! Subscribe today and never miss a beat.\\n\",\n",
      "            \"customUrl\": \"@theoffice\",\n",
      "            \"publishedAt\": \"2014-04-14T11:03:33Z\",\n",
      "            \"thumbnails\": {\n",
      "                \"default\": {\n",
      "                    \"url\": \"https://yt3.ggpht.com/IJ5VDWfTDpbTa21o7Q9eDQYQBerRakTYHcnnZczHcaDo58hcw36AnB0_NQtfzUdQjrs7oNlaNG0=s88-c-k-c0x00ffffff-no-rj\",\n",
      "                    \"width\": 88,\n",
      "                    \"height\": 88\n",
      "                },\n",
      "                \"medium\": {\n",
      "                    \"url\": \"https://yt3.ggpht.com/IJ5VDWfTDpbTa21o7Q9eDQYQBerRakTYHcnnZczHcaDo58hcw36AnB0_NQtfzUdQjrs7oNlaNG0=s240-c-k-c0x00ffffff-no-rj\",\n",
      "                    \"width\": 240,\n",
      "                    \"height\": 240\n",
      "                },\n",
      "                \"high\": {\n",
      "                    \"url\": \"https://yt3.ggpht.com/IJ5VDWfTDpbTa21o7Q9eDQYQBerRakTYHcnnZczHcaDo58hcw36AnB0_NQtfzUdQjrs7oNlaNG0=s800-c-k-c0x00ffffff-no-rj\",\n",
      "                    \"width\": 800,\n",
      "                    \"height\": 800\n",
      "                }\n",
      "            },\n",
      "            \"localized\": {\n",
      "                \"title\": \"The Office\",\n",
      "                \"description\": \"Welcome to The Office Channel!\\n\\nThis channel is dedicated to everything The Office, from behind-the-scenes videos to fan theories. We'll be uploading new videos every week, so be sure to subscribe and hit the bell icon to be notified when we upload new content.\\n\\nIn this channel, you'll find:\\n* Behind-the-scenes videos: We'll take you behind-the-scenes of The Office, showing you how the show was made and what it was like to work on set.\\n* Fan theories: We'll share some of the most popular fan theories about The Office, and we'll even share some of our own.\\n* Episode recaps: Relive your favorite moments from Michael Scott, Dwight Schrute, Jim Halpert, and more\\u2026\\n* Character interviews: We'll interview the cast and crew of The Office, getting their insights into the show and their characters.\\n* Peacock exclusives: We\\u2019ll upload never-before-seen deleted scenes, bloopers, and gag reels.\\n\\nIf you're a fan of The Office, then this is the channel for you! Subscribe today and never miss a beat.\\n\"\n",
      "            }\n",
      "        },\n",
      "        \"contentDetails\": {\n",
      "            \"relatedPlaylists\": {\n",
      "                \"likes\": \"\",\n",
      "                \"uploads\": \"UUa90xqK2odw1KV5wHU9WRhg\"\n",
      "            }\n",
      "        },\n",
      "        \"statistics\": {\n",
      "            \"viewCount\": \"2628923369\",\n",
      "            \"subscriberCount\": \"3090000\",\n",
      "            \"hiddenSubscriberCount\": false,\n",
      "            \"videoCount\": \"1115\"\n",
      "        }\n",
      "    }\n",
      "]\n"
     ]
    }
   ],
   "source": [
    "api_service_name = \"youtube\"\n",
    "api_version = \"v3\"\n",
    "\n",
    "\n",
    "# Get credentials and create an API client\n",
    "\n",
    "youtube = build(\n",
    "    api_service_name, api_version, developerKey=api_key)  # the API key here will need to be generated from GCP for each user individually\n",
    "\n",
    "request = youtube.channels().list(\n",
    "    part=\"snippet,contentDetails,statistics\",\n",
    "    id=\",\".join(channel_ids)\n",
    ")\n",
    "response = request.execute()\n",
    "\n",
    "# JSON(response)\n",
    "\n",
    "# print(response)\n",
    "\n",
    "# formatted_response = json.dumps(response, indent=4)\n",
    "\n",
    "formatted_response = json.dumps(response[\"items\"], indent=4)\n",
    "\n",
    "print(formatted_response)"
   ]
  },
  {
   "cell_type": "code",
   "execution_count": 5,
   "id": "c7686c68",
   "metadata": {},
   "outputs": [],
   "source": [
    "def get_channel_stats(youtube, channel_ids):\n",
    "    \n",
    "    all_data = []\n",
    "    request = youtube.channels().list(\n",
    "        part=\"snippet,contentDetails,statistics\",\n",
    "        id=\",\".join(channel_ids)\n",
    "    )\n",
    "    response = request.execute()\n",
    "    \n",
    "    for item in response[\"items\"]: # the key 'items' in the response JSON dict gives a list of items, each one about a specified YT channel.\n",
    "        data = {\n",
    "            \"channel_name\" : item[\"snippet\"][\"title\"],\n",
    "            \"playlistId\" : item[\"contentDetails\"][\"relatedPlaylists\"][\"uploads\"]\n",
    "        }\n",
    "        \n",
    "        all_data.append(data)\n",
    "    return pd.DataFrame(all_data)"
   ]
  },
  {
   "cell_type": "markdown",
   "id": "b71f27c5",
   "metadata": {},
   "source": [
    "## Getting video info"
   ]
  },
  {
   "cell_type": "code",
   "execution_count": 6,
   "id": "6fefdb0e",
   "metadata": {},
   "outputs": [],
   "source": [
    "def get_video_ids(youtube, playlist_id):\n",
    "    \n",
    "    video_ids = []\n",
    "    \n",
    "    request = youtube.playlistItems().list(\n",
    "        part=\"snippet,contentDetails\",\n",
    "        playlistId=playlist_id,\n",
    "        maxResults = 50\n",
    "    )\n",
    "    response = request.execute()\n",
    "    \n",
    "    for item in response['items']:\n",
    "        video_ids.append(item['contentDetails']['videoId'])\n",
    "        \n",
    "    next_page_token = response.get('nextPageToken')\n",
    "    while next_page_token is not None:\n",
    "        request = youtube.playlistItems().list(\n",
    "                    part='contentDetails',\n",
    "                    playlistId = playlist_id,\n",
    "                    maxResults = 50,\n",
    "                    pageToken = next_page_token)\n",
    "        response = request.execute()\n",
    "\n",
    "        for item in response['items']:\n",
    "            video_ids.append(item['contentDetails']['videoId'])\n",
    "\n",
    "        next_page_token = response.get('nextPageToken')\n",
    "        \n",
    "    return video_ids\n",
    "\n"
   ]
  },
  {
   "cell_type": "code",
   "execution_count": 7,
   "id": "f28f8939",
   "metadata": {},
   "outputs": [],
   "source": [
    "def get_video_details(youtube, video_ids):\n",
    "\n",
    "    all_video_info = []\n",
    "    \n",
    "    for i in range(0, len(video_ids), 50):\n",
    "        request = youtube.videos().list(\n",
    "            part=\"snippet,contentDetails,statistics\",\n",
    "            id=','.join(video_ids[i:i+50])\n",
    "        )\n",
    "        response = request.execute() \n",
    "\n",
    "        for video in response['items']:\n",
    "            stats_to_keep = {'snippet': ['channelTitle', 'title', 'description', 'tags', 'publishedAt'],\n",
    "                             'statistics': ['viewCount', 'likeCount', 'favouriteCount', 'commentCount'],\n",
    "                             'contentDetails': ['duration', 'definition', 'caption']\n",
    "                            }\n",
    "            video_info = {}\n",
    "            video_info['video_id'] = video['id']\n",
    "\n",
    "            for k in stats_to_keep.keys():\n",
    "                for v in stats_to_keep[k]:\n",
    "                    try:\n",
    "                        video_info[v] = video[k][v]\n",
    "                    except:\n",
    "                        video_info[v] = None\n",
    "\n",
    "            all_video_info.append(video_info)\n",
    "    \n",
    "    return pd.DataFrame(all_video_info)"
   ]
  },
  {
   "cell_type": "markdown",
   "id": "a83b5a35",
   "metadata": {},
   "source": [
    "## Running functions"
   ]
  },
  {
   "cell_type": "code",
   "execution_count": 8,
   "id": "8954d2a5",
   "metadata": {},
   "outputs": [],
   "source": [
    "youtube = build(\n",
    "    api_service_name, api_version, developerKey=api_key)\n",
    "\n",
    "channel_ids = [ 'UCa90xqK2odw1KV5wHU9WRhg', 'UCX6OQ3DkcsbYNE6H8uQQuVA', 'UCzQUP1qoWDoEbmsQxvdjxgQ']\n",
    "# these ^ are the channel IDs of The Office, PowerfulJRE and MrBeast. I found them by 'inspecting source'  \n",
    "\n",
    "channel_stats_df = get_channel_stats(youtube, channel_ids)"
   ]
  },
  {
   "cell_type": "code",
   "execution_count": 10,
   "id": "d9753567",
   "metadata": {},
   "outputs": [
    {
     "data": {
      "text/html": [
       "<div>\n",
       "<style scoped>\n",
       "    .dataframe tbody tr th:only-of-type {\n",
       "        vertical-align: middle;\n",
       "    }\n",
       "\n",
       "    .dataframe tbody tr th {\n",
       "        vertical-align: top;\n",
       "    }\n",
       "\n",
       "    .dataframe thead th {\n",
       "        text-align: right;\n",
       "    }\n",
       "</style>\n",
       "<table border=\"1\" class=\"dataframe\">\n",
       "  <thead>\n",
       "    <tr style=\"text-align: right;\">\n",
       "      <th></th>\n",
       "      <th>channel_name</th>\n",
       "      <th>playlistId</th>\n",
       "    </tr>\n",
       "  </thead>\n",
       "  <tbody>\n",
       "    <tr>\n",
       "      <th>0</th>\n",
       "      <td>The Office</td>\n",
       "      <td>UUa90xqK2odw1KV5wHU9WRhg</td>\n",
       "    </tr>\n",
       "    <tr>\n",
       "      <th>1</th>\n",
       "      <td>MrBeast</td>\n",
       "      <td>UUX6OQ3DkcsbYNE6H8uQQuVA</td>\n",
       "    </tr>\n",
       "    <tr>\n",
       "      <th>2</th>\n",
       "      <td>PowerfulJRE</td>\n",
       "      <td>UUzQUP1qoWDoEbmsQxvdjxgQ</td>\n",
       "    </tr>\n",
       "  </tbody>\n",
       "</table>\n",
       "</div>"
      ],
      "text/plain": [
       "  channel_name                playlistId\n",
       "0   The Office  UUa90xqK2odw1KV5wHU9WRhg\n",
       "1      MrBeast  UUX6OQ3DkcsbYNE6H8uQQuVA\n",
       "2  PowerfulJRE  UUzQUP1qoWDoEbmsQxvdjxgQ"
      ]
     },
     "execution_count": 10,
     "metadata": {},
     "output_type": "execute_result"
    }
   ],
   "source": [
    "channel_stats_df.head()"
   ]
  },
  {
   "cell_type": "markdown",
   "id": "23274eb4",
   "metadata": {},
   "source": [
    "#### Putting all video details into one df:"
   ]
  },
  {
   "cell_type": "code",
   "execution_count": 43,
   "id": "8f8a7614",
   "metadata": {},
   "outputs": [],
   "source": [
    "df_list = []\n",
    "playlist_ids = channel_stats_df[\"playlistId\"].values\n",
    "\n",
    "for playlist_id in playlist_ids:\n",
    "    video_ids = get_video_ids(youtube, playlist_id)\n",
    "    video_details_df = get_video_details(youtube, video_ids)\n",
    "    df_list.append(video_details_df)\n",
    "    \n",
    "all_channels_df = pd.concat(df_list)"
   ]
  },
  {
   "cell_type": "code",
   "execution_count": 84,
   "id": "a8c91271",
   "metadata": {},
   "outputs": [
    {
     "data": {
      "text/plain": [
       "channelTitle\n",
       "The Office     1116\n",
       "PowerfulJRE    1033\n",
       "MrBeast         741\n",
       "Name: count, dtype: int64"
      ]
     },
     "execution_count": 84,
     "metadata": {},
     "output_type": "execute_result"
    }
   ],
   "source": [
    "all_channels_df[\"channelTitle\"].value_counts()"
   ]
  },
  {
   "cell_type": "code",
   "execution_count": 85,
   "id": "80b88a5a",
   "metadata": {},
   "outputs": [],
   "source": [
    "mr_beast_df = all_channels_df[all_channels_df[\"channelTitle\"] == \"MrBeast\"]"
   ]
  },
  {
   "cell_type": "code",
   "execution_count": 86,
   "id": "289142cf",
   "metadata": {},
   "outputs": [
    {
     "name": "stderr",
     "output_type": "stream",
     "text": [
      "C:\\Users\\lukeb\\AppData\\Local\\Temp\\ipykernel_11732\\2402510279.py:1: SettingWithCopyWarning: \n",
      "A value is trying to be set on a copy of a slice from a DataFrame.\n",
      "Try using .loc[row_indexer,col_indexer] = value instead\n",
      "\n",
      "See the caveats in the documentation: https://pandas.pydata.org/pandas-docs/stable/user_guide/indexing.html#returning-a-view-versus-a-copy\n",
      "  mr_beast_df[[\"viewCount\",\"likeCount\", 'commentCount']] = mr_beast_df[[\"viewCount\",\"likeCount\", 'commentCount']].apply(pd.to_numeric)\n",
      "C:\\Users\\lukeb\\AppData\\Local\\Temp\\ipykernel_11732\\2402510279.py:2: SettingWithCopyWarning: \n",
      "A value is trying to be set on a copy of a slice from a DataFrame.\n",
      "Try using .loc[row_indexer,col_indexer] = value instead\n",
      "\n",
      "See the caveats in the documentation: https://pandas.pydata.org/pandas-docs/stable/user_guide/indexing.html#returning-a-view-versus-a-copy\n",
      "  mr_beast_df[\"publishedAt\"] = pd.to_datetime(mr_beast_df[\"publishedAt\"], format='%Y-%m-%dT%H:%M:%SZ')\n"
     ]
    }
   ],
   "source": [
    "mr_beast_df[[\"viewCount\",\"likeCount\", 'commentCount']] = mr_beast_df[[\"viewCount\",\"likeCount\", 'commentCount']].apply(pd.to_numeric)\n",
    "mr_beast_df[\"publishedAt\"] = pd.to_datetime(mr_beast_df[\"publishedAt\"], format='%Y-%m-%dT%H:%M:%SZ')\n",
    "\n",
    "\n",
    "dollars_df = mr_beast_df[mr_beast_df[\"title\"].str.contains(\"\\$\")][[\"viewCount\",\"likeCount\", 'commentCount', \"publishedAt\"]]\n",
    "no_dollars_df = mr_beast_df[~mr_beast_df[\"title\"].str.contains(\"\\$\")][[\"viewCount\",\"likeCount\", 'commentCount', \"publishedAt\"]]"
   ]
  },
  {
   "cell_type": "code",
   "execution_count": 87,
   "id": "a286f1fb",
   "metadata": {},
   "outputs": [
    {
     "data": {
      "text/plain": [
       "viewCount                int64\n",
       "likeCount              float64\n",
       "commentCount           float64\n",
       "publishedAt     datetime64[ns]\n",
       "dtype: object"
      ]
     },
     "execution_count": 87,
     "metadata": {},
     "output_type": "execute_result"
    }
   ],
   "source": [
    "dollars_df.dtypes"
   ]
  },
  {
   "cell_type": "code",
   "execution_count": 88,
   "id": "cdea50e1",
   "metadata": {},
   "outputs": [],
   "source": [
    "dollars_df = dollars_df.sort_values(by='publishedAt')"
   ]
  },
  {
   "cell_type": "code",
   "execution_count": 89,
   "id": "a6451352",
   "metadata": {},
   "outputs": [
    {
     "data": {
      "text/html": [
       "<div>\n",
       "<style scoped>\n",
       "    .dataframe tbody tr th:only-of-type {\n",
       "        vertical-align: middle;\n",
       "    }\n",
       "\n",
       "    .dataframe tbody tr th {\n",
       "        vertical-align: top;\n",
       "    }\n",
       "\n",
       "    .dataframe thead th {\n",
       "        text-align: right;\n",
       "    }\n",
       "</style>\n",
       "<table border=\"1\" class=\"dataframe\">\n",
       "  <thead>\n",
       "    <tr style=\"text-align: right;\">\n",
       "      <th></th>\n",
       "      <th>viewCount</th>\n",
       "      <th>likeCount</th>\n",
       "      <th>commentCount</th>\n",
       "      <th>publishedAt</th>\n",
       "    </tr>\n",
       "  </thead>\n",
       "  <tbody>\n",
       "    <tr>\n",
       "      <th>570</th>\n",
       "      <td>92092</td>\n",
       "      <td>1423.0</td>\n",
       "      <td>326.0</td>\n",
       "      <td>2015-03-05 02:07:01</td>\n",
       "    </tr>\n",
       "    <tr>\n",
       "      <th>543</th>\n",
       "      <td>97693</td>\n",
       "      <td>2006.0</td>\n",
       "      <td>155.0</td>\n",
       "      <td>2015-05-09 19:47:51</td>\n",
       "    </tr>\n",
       "    <tr>\n",
       "      <th>542</th>\n",
       "      <td>35481</td>\n",
       "      <td>1159.0</td>\n",
       "      <td>273.0</td>\n",
       "      <td>2015-05-10 20:59:50</td>\n",
       "    </tr>\n",
       "    <tr>\n",
       "      <th>469</th>\n",
       "      <td>118769</td>\n",
       "      <td>2502.0</td>\n",
       "      <td>263.0</td>\n",
       "      <td>2015-07-31 00:13:08</td>\n",
       "    </tr>\n",
       "    <tr>\n",
       "      <th>452</th>\n",
       "      <td>57345</td>\n",
       "      <td>1250.0</td>\n",
       "      <td>177.0</td>\n",
       "      <td>2015-08-12 10:00:00</td>\n",
       "    </tr>\n",
       "  </tbody>\n",
       "</table>\n",
       "</div>"
      ],
      "text/plain": [
       "     viewCount  likeCount  commentCount         publishedAt\n",
       "570      92092     1423.0         326.0 2015-03-05 02:07:01\n",
       "543      97693     2006.0         155.0 2015-05-09 19:47:51\n",
       "542      35481     1159.0         273.0 2015-05-10 20:59:50\n",
       "469     118769     2502.0         263.0 2015-07-31 00:13:08\n",
       "452      57345     1250.0         177.0 2015-08-12 10:00:00"
      ]
     },
     "execution_count": 89,
     "metadata": {},
     "output_type": "execute_result"
    }
   ],
   "source": [
    "dollars_df.head()"
   ]
  },
  {
   "cell_type": "code",
   "execution_count": 90,
   "id": "6751d360",
   "metadata": {},
   "outputs": [
    {
     "name": "stdout",
     "output_type": "stream",
     "text": [
      "2015-03-05 02:07:01\n",
      "625\n",
      "455\n"
     ]
    }
   ],
   "source": [
    "# Here we amend the set of videos with no $ sign in it such that we only take videos after the first one that he poste WITH a $ sign in it\n",
    "\n",
    "first_dollar_vid = dollars_df.iloc[0][\"publishedAt\"]\n",
    "print(first_dollar_vid)\n",
    "\n",
    "print(len(no_dollars_df))\n",
    "no_dollars_df = no_dollars_df[no_dollars_df[\"publishedAt\"] > first_dollar_vid]\n",
    "print(len(no_dollars_df))"
   ]
  },
  {
   "cell_type": "code",
   "execution_count": 60,
   "id": "73254ccd",
   "metadata": {},
   "outputs": [
    {
     "name": "stdout",
     "output_type": "stream",
     "text": [
      "92416628.1\n",
      "39338447.3\n"
     ]
    }
   ],
   "source": [
    "print(dollars_df[\"viewCount\"].mean().round(1))\n",
    "print(no_dollars_df[\"viewCount\"].mean().round(1))"
   ]
  },
  {
   "cell_type": "code",
   "execution_count": 82,
   "id": "a59e1439",
   "metadata": {},
   "outputs": [
    {
     "data": {
      "text/plain": [
       "462166926"
      ]
     },
     "execution_count": 82,
     "metadata": {},
     "output_type": "execute_result"
    }
   ],
   "source": [
    "dollars_df['viewCount'].max()"
   ]
  },
  {
   "cell_type": "code",
   "execution_count": 83,
   "id": "8a7891ee",
   "metadata": {},
   "outputs": [
    {
     "data": {
      "text/plain": [
       "834574386"
      ]
     },
     "execution_count": 83,
     "metadata": {},
     "output_type": "execute_result"
    }
   ],
   "source": [
    "no_dollars_df['viewCount'].max()"
   ]
  },
  {
   "cell_type": "code",
   "execution_count": 79,
   "id": "149b5e11",
   "metadata": {},
   "outputs": [
    {
     "data": {
      "text/plain": [
       "<Axes: >"
      ]
     },
     "execution_count": 79,
     "metadata": {},
     "output_type": "execute_result"
    }
   ],
   "source": [
    "dollars_df['viewCount'].plot(style='.')"
   ]
  },
  {
   "cell_type": "code",
   "execution_count": 124,
   "id": "d672a5b0",
   "metadata": {},
   "outputs": [],
   "source": [
    "def create_plot(df_dict):\n",
    "    \n",
    "    for df_name in df_dict:\n",
    "        df = df_dict[df_name]\n",
    "        print(type(df))\n",
    "        ax = df.plot(x=\"publishedAt\", y=\"viewCount\", style=\".\", legend=None)\n",
    "\n",
    "        ax.get_yaxis().set_major_formatter(\n",
    "            matplotlib.ticker.FuncFormatter(lambda x, p: format(int(x)/1000000, ',')))\n",
    "        plt.ylabel(\"View count (millions)\")\n",
    "        plt.xlabel(\"Video publish date\")\n",
    "        title = \"Video view counts - '$' NOT in video title\" if \"no\" in df_name else \"Video view counts - '$' in video title\" \n",
    "        plt.title(title)\n",
    "\n",
    "        plt.show()"
   ]
  },
  {
   "cell_type": "code",
   "execution_count": 125,
   "id": "7e7db336",
   "metadata": {},
   "outputs": [
    {
     "name": "stdout",
     "output_type": "stream",
     "text": [
      "<class 'pandas.core.frame.DataFrame'>\n"
     ]
    },
    {
     "data": {
      "image/png": "[encoded data removed]",
      "text/plain": [
       "<Figure size 640x480 with 1 Axes>"
      ]
     },
     "metadata": {},
     "output_type": "display_data"
    },
    {
     "name": "stdout",
     "output_type": "stream",
     "text": [
      "<class 'pandas.core.frame.DataFrame'>\n"
     ]
    },
    {
     "data": {
      "image/png": "[encoded data removed]",
      "text/plain": [
       "<Figure size 640x480 with 1 Axes>"
      ]
     },
     "metadata": {},
     "output_type": "display_data"
    }
   ],
   "source": [
    "df_dict = {\n",
    "    \"dollars_df\": dollars_df,\n",
    "    \"no_dollars_df\": no_dollars_df\n",
    "    }\n",
    "    \n",
    "    \n",
    "create_plot(df_dict)"
   ]
  },
  {
   "cell_type": "code",
   "execution_count": 119,
   "id": "d814c9a8",
   "metadata": {},
   "outputs": [
    {
     "name": "stdout",
     "output_type": "stream",
     "text": [
      "1\n",
      "3\n"
     ]
    }
   ],
   "source": [
    "for i in b:\n",
    "    print(i)"
   ]
  },
  {
   "cell_type": "code",
   "execution_count": null,
   "id": "b6d3153e",
   "metadata": {},
   "outputs": [],
   "source": []
  }
 ],
 "metadata": {
  "kernelspec": {
   "display_name": "youtube_analysis",
   "language": "python",
   "name": "youtube_analysis"
  },
  "language_info": {
   "codemirror_mode": {
    "name": "ipython",
    "version": 3
   },
   "file_extension": ".py",
   "mimetype": "text/x-python",
   "name": "python",
   "nbconvert_exporter": "python",
   "pygments_lexer": "ipython3",
   "version": "3.11.2"
  }
 },
 "nbformat": 4,
 "nbformat_minor": 5
}
